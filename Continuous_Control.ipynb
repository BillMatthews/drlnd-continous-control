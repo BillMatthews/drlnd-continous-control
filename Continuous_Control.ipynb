{
 "cells": [
  {
   "cell_type": "markdown",
   "metadata": {},
   "source": [
    "# Continuous Control\n",
    "\n",
    "---\n",
    "\n",
    "In this notebook, you will learn how to use the Unity ML-Agents environment for the second project of the [Deep Reinforcement Learning Nanodegree](https://www.udacity.com/course/deep-reinforcement-learning-nanodegree--nd893) program.\n",
    "\n",
    "### 1. Start the Environment\n",
    "\n",
    "We begin by importing the necessary packages.  If the code cell below returns an error, please revisit the project instructions to double-check that you have installed [Unity ML-Agents](https://github.com/Unity-Technologies/ml-agents/blob/master/docs/Installation.md) and [NumPy](http://www.numpy.org/)."
   ]
  },
  {
   "cell_type": "code",
   "execution_count": 1,
   "metadata": {},
   "outputs": [],
   "source": [
    "from unityagents import UnityEnvironment\n",
    "import numpy as np"
   ]
  },
  {
   "cell_type": "markdown",
   "metadata": {},
   "source": [
    "Next, we will start the environment!  **_Before running the code cell below_**, change the `file_name` parameter to match the location of the Unity environment that you downloaded.\n",
    "\n",
    "- **Mac**: `\"path/to/Reacher.app\"`\n",
    "- **Windows** (x86): `\"path/to/Reacher_Windows_x86/Reacher.exe\"`\n",
    "- **Windows** (x86_64): `\"path/to/Reacher_Windows_x86_64/Reacher.exe\"`\n",
    "- **Linux** (x86): `\"path/to/Reacher_Linux/Reacher.x86\"`\n",
    "- **Linux** (x86_64): `\"path/to/Reacher_Linux/Reacher.x86_64\"`\n",
    "- **Linux** (x86, headless): `\"path/to/Reacher_Linux_NoVis/Reacher.x86\"`\n",
    "- **Linux** (x86_64, headless): `\"path/to/Reacher_Linux_NoVis/Reacher.x86_64\"`\n",
    "\n",
    "For instance, if you are using a Mac, then you downloaded `Reacher.app`.  If this file is in the same folder as the notebook, then the line below should appear as follows:\n",
    "```\n",
    "env = UnityEnvironment(file_name=\"Reacher.app\")\n",
    "```"
   ]
  },
  {
   "cell_type": "code",
   "execution_count": 2,
   "metadata": {},
   "outputs": [
    {
     "name": "stderr",
     "output_type": "stream",
     "text": [
      "INFO:unityagents:\n",
      "'Academy' started successfully!\n",
      "Unity Academy name: Academy\n",
      "        Number of Brains: 1\n",
      "        Number of External Brains : 1\n",
      "        Lesson number : 0\n",
      "        Reset Parameters :\n",
      "\t\tgoal_speed -> 1.0\n",
      "\t\tgoal_size -> 5.0\n",
      "Unity brain name: ReacherBrain\n",
      "        Number of Visual Observations (per agent): 0\n",
      "        Vector Observation space type: continuous\n",
      "        Vector Observation space size (per agent): 33\n",
      "        Number of stacked Vector Observation: 1\n",
      "        Vector Action space type: continuous\n",
      "        Vector Action space size (per agent): 4\n",
      "        Vector Action descriptions: , , , \n"
     ]
    }
   ],
   "source": [
    "#env = UnityEnvironment(file_name='envs/Reacher_Windows_x86_64/Reacher.exe')\n",
    "env = UnityEnvironment(file_name='envs/Reacher_multi_Windows_x86_64/Reacher.exe')"
   ]
  },
  {
   "cell_type": "markdown",
   "metadata": {},
   "source": [
    "Environments contain **_brains_** which are responsible for deciding the actions of their associated agents. Here we check for the first brain available, and set it as the default brain we will be controlling from Python."
   ]
  },
  {
   "cell_type": "code",
   "execution_count": 3,
   "metadata": {},
   "outputs": [],
   "source": [
    "# get the default brain\n",
    "brain_name = env.brain_names[0]\n",
    "brain = env.brains[brain_name]"
   ]
  },
  {
   "cell_type": "markdown",
   "metadata": {},
   "source": [
    "### 2. Examine the State and Action Spaces\n",
    "\n",
    "In this environment, a double-jointed arm can move to target locations. A reward of `+0.1` is provided for each step that the agent's hand is in the goal location. Thus, the goal of your agent is to maintain its position at the target location for as many time steps as possible.\n",
    "\n",
    "The observation space consists of `33` variables corresponding to position, rotation, velocity, and angular velocities of the arm.  Each action is a vector with four numbers, corresponding to torque applicable to two joints.  Every entry in the action vector must be a number between `-1` and `1`.\n",
    "\n",
    "Run the code cell below to print some information about the environment."
   ]
  },
  {
   "cell_type": "code",
   "execution_count": 4,
   "metadata": {},
   "outputs": [
    {
     "name": "stdout",
     "output_type": "stream",
     "text": [
      "Number of agents: 20\n",
      "Size of each action: 4\n",
      "There are 20 agents. Each observes a state with length: 33.00\n",
      "The state for the first agent looks like: [ 0.00000000e+00 -4.00000000e+00  0.00000000e+00  1.00000000e+00\n",
      " -0.00000000e+00 -0.00000000e+00 -4.37113883e-08  0.00000000e+00\n",
      "  0.00000000e+00  0.00000000e+00  0.00000000e+00  0.00000000e+00\n",
      "  0.00000000e+00  0.00000000e+00 -1.00000000e+01  0.00000000e+00\n",
      "  1.00000000e+00 -0.00000000e+00 -0.00000000e+00 -4.37113883e-08\n",
      "  0.00000000e+00  0.00000000e+00  0.00000000e+00  0.00000000e+00\n",
      "  0.00000000e+00  0.00000000e+00  5.75471878e+00 -1.00000000e+00\n",
      "  5.55726624e+00  0.00000000e+00  1.00000000e+00  0.00000000e+00\n",
      " -1.68164849e-01]\n"
     ]
    }
   ],
   "source": [
    "# reset the environment\n",
    "env_info = env.reset(train_mode=True)[brain_name]\n",
    "\n",
    "# number of agents\n",
    "num_agents = len(env_info.agents)\n",
    "print('Number of agents:', num_agents)\n",
    "\n",
    "# size of each action\n",
    "action_size = brain.vector_action_space_size\n",
    "print('Size of each action:', action_size)\n",
    "\n",
    "# examine the state space \n",
    "states = env_info.vector_observations\n",
    "state_size = states.shape[1]\n",
    "print('There are {} agents. Each observes a state with length: {:.2f}'.format(states.shape[0], state_size))\n",
    "print('The state for the first agent looks like:', states[0])"
   ]
  },
  {
   "cell_type": "markdown",
   "metadata": {},
   "source": [
    "### 3. Take Random Actions in the Environment\n",
    "\n",
    "In the next code cell, you will learn how to use the Python API to control the agent and receive feedback from the environment.\n",
    "\n",
    "Once this cell is executed, you will watch the agent's performance, if it selects an action at random with each time step.  A window should pop up that allows you to observe the agent, as it moves through the environment.  \n",
    "\n",
    "Of course, as part of the project, you'll have to change the code so that the agent is able to use its experience to gradually choose better actions when interacting with the environment!"
   ]
  },
  {
   "cell_type": "code",
   "execution_count": 5,
   "metadata": {},
   "outputs": [
    {
     "name": "stdout",
     "output_type": "stream",
     "text": [
      "Total score (averaged over agents) this episode: 0.10549999764189125\n"
     ]
    }
   ],
   "source": [
    "env_info = env.reset(train_mode=False)[brain_name]     # reset the environment    \n",
    "states = env_info.vector_observations                  # get the current state (for each agent)\n",
    "scores = np.zeros(num_agents)                          # initialize the score (for each agent)\n",
    "for _ in range(500):\n",
    "    actions = np.random.randn(num_agents, action_size) # select an action (for each agent)\n",
    "    actions = np.clip(actions, -1, 1)                  # all actions between -1 and 1\n",
    "    env_info = env.step(actions)[brain_name]           # send all actions to tne environment\n",
    "    next_states = env_info.vector_observations         # get next state (for each agent)\n",
    "    rewards = env_info.rewards                         # get reward (for each agent)\n",
    "    dones = env_info.local_done                        # see if episode finished\n",
    "    scores += env_info.rewards                         # update the score (for each agent)\n",
    "    states = next_states                               # roll over states to next time step\n",
    "    if np.any(dones):                                  # exit loop if episode finished\n",
    "        break\n",
    "print('Total score (averaged over agents) this episode: {}'.format(np.mean(scores)))"
   ]
  },
  {
   "cell_type": "markdown",
   "metadata": {},
   "source": [
    "### 4. Training a DDPG Agent"
   ]
  },
  {
   "cell_type": "markdown",
   "metadata": {},
   "source": [
    "## 4.1 Import libraries"
   ]
  },
  {
   "cell_type": "code",
   "execution_count": 6,
   "metadata": {},
   "outputs": [],
   "source": [
    "import numpy as np\n",
    "\n",
    "import random\n",
    "import copy\n",
    "from collections import namedtuple, deque\n",
    "import matplotlib.pyplot as plt\n",
    "from unityagents import UnityEnvironment\n",
    "\n",
    "%matplotlib inline\n",
    "\n",
    "import torch\n",
    "import torch.nn as nn\n",
    "import torch.nn.functional as F\n",
    "import torch.optim as optim\n",
    "from torch.autograd import Variable"
   ]
  },
  {
   "cell_type": "markdown",
   "metadata": {},
   "source": [
    "## 4.2 Define Helpful Functions"
   ]
  },
  {
   "cell_type": "code",
   "execution_count": 7,
   "metadata": {},
   "outputs": [],
   "source": [
    "def hidden_init(layer):\n",
    "    fan_in = layer.weight.data.size()[0]\n",
    "    lim = 1. / np.sqrt(fan_in)\n",
    "    return (-lim, lim)\n",
    "\n",
    "def graph_scores(scores): \n",
    "    fig = plt.figure()\n",
    "    ax = fig.add_subplot(111)\n",
    "    plt.plot(np.arange(1, len(scores) + 1), scores)\n",
    "    plt.ylabel('Score')\n",
    "    plt.xlabel('Episode #')\n",
    "    plt.show()"
   ]
  },
  {
   "cell_type": "markdown",
   "metadata": {},
   "source": [
    "## 4.3 Define Actor and Critic Networks Models"
   ]
  },
  {
   "cell_type": "code",
   "execution_count": 8,
   "metadata": {},
   "outputs": [],
   "source": [
    "class Actor(nn.Module):\n",
    "    \"\"\"Actor (Policy) Model.\"\"\"\n",
    "\n",
    "    def __init__(self, state_size, action_size, seed, fc1_units=400, fc2_units=300):\n",
    "        \"\"\"Initialize parameters and build model.\n",
    "        Params\n",
    "        ======\n",
    "            state_size (int): Dimension of each state\n",
    "            action_size (int): Dimension of each action\n",
    "            seed (int): Random seed\n",
    "            fc1_units (int): Number of nodes in first hidden layer\n",
    "            fc2_units (int): Number of nodes in second hidden layer\n",
    "        \"\"\"\n",
    "        super(Actor, self).__init__()\n",
    "        self.seed = torch.manual_seed(seed)\n",
    "        \n",
    "        self.fc1 = nn.Linear(state_size, fc1_units)\n",
    "        self.bn = nn.BatchNorm1d(fc1_units)\n",
    "        self.fc2 = nn.Linear(fc1_units, fc2_units)\n",
    "        self.fc3 = nn.Linear(fc2_units, action_size)\n",
    "        self.reset_parameters()\n",
    "\n",
    "    def reset_parameters(self):\n",
    "        self.fc1.weight.data.uniform_(*hidden_init(self.fc1))\n",
    "        self.fc2.weight.data.uniform_(*hidden_init(self.fc2))\n",
    "        self.fc3.weight.data.uniform_(-3e-3, 3e-3)\n",
    "\n",
    "    def forward(self, state):\n",
    "        \"\"\"Build an actor (policy) network that maps states -> actions.\"\"\"\n",
    "        \n",
    "        x = self.fc1(state)\n",
    "        x = F.relu(self.bn(x))\n",
    "        x = F.relu(self.fc2(x))\n",
    "        return torch.tanh(self.fc3(x))\n",
    "\n",
    "\n",
    "class Critic(nn.Module):\n",
    "    \"\"\"Critic (Value) Model.\"\"\"\n",
    "\n",
    "    def __init__(self, state_size, action_size, seed, fc1_units=400, fc2_units=300):\n",
    "        \"\"\"Initialize parameters and build model.\n",
    "        Params\n",
    "        ======\n",
    "            state_size (int): Dimension of each state\n",
    "            action_size (int): Dimension of each action\n",
    "            seed (int): Random seed\n",
    "            fcs1_units (int): Number of nodes in the first hidden layer\n",
    "            fc2_units (int): Number of nodes in the second hidden layer\n",
    "        \"\"\"\n",
    "        super(Critic, self).__init__()\n",
    "        self.seed = torch.manual_seed(seed)\n",
    "        \n",
    "        self.fc1 = nn.Linear(state_size, fc1_units)\n",
    "        self.bn = nn.BatchNorm1d(fc1_units)\n",
    "        self.fc2 = nn.Linear(fc1_units+action_size, fc2_units)\n",
    "        self.fc3 = nn.Linear(fc2_units, 1)\n",
    "        self.reset_parameters()\n",
    "\n",
    "    def reset_parameters(self):\n",
    "        self.fc1.weight.data.uniform_(*hidden_init(self.fc1))\n",
    "        self.fc2.weight.data.uniform_(*hidden_init(self.fc2))\n",
    "        self.fc3.weight.data.uniform_(-3e-3, 3e-3)\n",
    "\n",
    "    def forward(self, state, action):\n",
    "        \"\"\"Build a critic (value) network that maps (state, action) pairs -> Q-values.\"\"\"\n",
    "        x = self.fc1(state)\n",
    "        x = F.relu(self.bn(x))\n",
    "        x = torch.cat((x, action), dim=1)\n",
    "        x = F.relu(self.fc2(x))\n",
    "        return self.fc3(x)"
   ]
  },
  {
   "cell_type": "markdown",
   "metadata": {},
   "source": [
    "## 4.4 Define Agent"
   ]
  },
  {
   "cell_type": "code",
   "execution_count": 9,
   "metadata": {},
   "outputs": [],
   "source": [
    "GAMMA = 0.99            # discount factor\n",
    "TAU = 1e-3              # for soft update of target parameters\n",
    "LR_ACTOR = 1e-3         # learning rate of the actor \n",
    "LR_CRITIC = 1e-3        # learning rate of the critic\n",
    "WEIGHT_DECAY = 0.0000     # L2 weight decay\n",
    "BATCH_SIZE = 1024         # minibatch size\n",
    "BUFFER_SIZE = int(1e6)  # replay buffer size\n",
    "\n",
    "device = torch.device(\"cuda:0\" if torch.cuda.is_available() else \"cpu\")\n",
    "\n",
    "class Agent():\n",
    "    \"\"\"Interacts with and learns from the environment.\"\"\"\n",
    "    \n",
    "    def __init__(self, state_size, action_size, random_seed, fc1=400, fc2=300, \n",
    "                 lra=LR_ACTOR, lrc=LR_CRITIC, initial_hard_update = False):\n",
    "        \"\"\"Initialize an Agent object.\n",
    "        \n",
    "        Params\n",
    "        ======\n",
    "            state_size (int): dimension of each state\n",
    "            action_size (int): dimension of each action\n",
    "            random_seed (int): random seed\n",
    "            fc1 (int) : number of units in the 1st hidden layer\n",
    "            fc2 (int) : number of units int he 2nd hidden layer\n",
    "            initial_hard_update (boolean) : set to True if the local and target networks should be initalised to the same weights\n",
    "            lra (float) : the learning rate for the Actor\n",
    "            lrc (float) : the learning rate for the Critic\n",
    "            \n",
    "        \"\"\"\n",
    "        self.state_size = state_size\n",
    "        self.action_size = action_size\n",
    "        self.seed = random.seed(random_seed)      \n",
    "        \n",
    "        # Actor Network (w/ Target Network)\n",
    "        self.actor_local = Actor(state_size, action_size, random_seed, fc1_units = fc1, fc2_units=fc2).to(device)\n",
    "        self.actor_target = Actor(state_size, action_size, random_seed, fc1_units = fc1, fc2_units=fc2).to(device)\n",
    "        self.actor_optimizer = optim.Adam(self.actor_local.parameters(), lr=lra)\n",
    "\n",
    "        # Critic Network (w/ Target Network)\n",
    "        self.critic_local = Critic(state_size, action_size, random_seed, fc1_units = fc1, fc2_units=fc2).to(device)\n",
    "        self.critic_target = Critic(state_size, action_size, random_seed, fc1_units = fc1, fc2_units=fc2).to(device)\n",
    "        self.critic_optimizer = optim.Adam(self.critic_local.parameters(), lr=lrc, weight_decay=WEIGHT_DECAY)\n",
    "        \n",
    "        # Initialse weights to be the same (hard-update) - helps convergence\n",
    "        self.hard_update(self.critic_local, self.critic_target)\n",
    "        self.hard_update(self.actor_local, self.actor_target)                     \n",
    "\n",
    "\n",
    "        # Noise process\n",
    "        self.noise = OUNoise(action_size, random_seed)\n",
    "        \n",
    "        # Replay memory\n",
    "        self.memory = ReplayBuffer(action_size, BUFFER_SIZE, BATCH_SIZE, random_seed)\n",
    "        \n",
    "        # Print Agent config\n",
    "        print (\"Agent Configuration\")\n",
    "        print(\"State Size: \", self.state_size)\n",
    "        print(\"Action Size:\", self.action_size)\n",
    "        print(\"Network Size:\", fc1, fc2)\n",
    "        print(\"Initial Hard Update\", initial_hard_update)\n",
    "        print(\"Actor LR:\", lra)\n",
    "        print(\"Critic LR:\", lrc)\n",
    "        print (\"**************\")\n",
    "\n",
    "    \n",
    "    def step(self, state, action, reward, next_state, done):\n",
    "        \"\"\"Save experience in replay memory, and use random sample from buffer to learn.\"\"\"\n",
    "        # Save experience / reward\n",
    "        self.memory.add(state, action, reward, next_state, done)\n",
    "\n",
    "    def act(self, state, add_noise=True):\n",
    "        \"\"\"Returns actions for given state as per current policy.\"\"\"\n",
    "        state = torch.from_numpy(state).float().to(device)\n",
    "        self.actor_local.eval()\n",
    "        with torch.no_grad():\n",
    "            action = self.actor_local(state).cpu().data.numpy()\n",
    "        self.actor_local.train()\n",
    "        if add_noise:\n",
    "            action += self.noise.sample()\n",
    "        return np.clip(action, -1, 1)\n",
    "\n",
    "    def reset(self):\n",
    "        self.noise.reset()\n",
    "\n",
    "    def start_learn(self):\n",
    "        if len(self.memory) > BATCH_SIZE:\n",
    "            experiences = self.memory.sample()\n",
    "            self.learn(experiences, GAMMA)\n",
    "        \n",
    "    def learn(self, experiences, gamma):\n",
    "        \"\"\"Update policy and value parameters using given batch of experience tuples.\n",
    "        Q_targets = r + γ * critic_target(next_state, actor_target(next_state))\n",
    "        where:\n",
    "            actor_target(state) -> action\n",
    "            critic_target(state, action) -> Q-value\n",
    "\n",
    "        Params\n",
    "        ======\n",
    "            experiences (Tuple[torch.Tensor]): tuple of (s, a, r, s', done) tuples \n",
    "            gamma (float): discount factor\n",
    "        \"\"\"\n",
    "        states, actions, rewards, next_states, dones = experiences\n",
    "\n",
    "        # ---------------------------- update critic ---------------------------- #\n",
    "        # Get predicted next-state actions and Q values from target models\n",
    "        actions_next = self.actor_target(next_states)\n",
    "        Q_targets_next = self.critic_target(next_states, actions_next)\n",
    "        # Compute Q targets for current states (y_i)\n",
    "        Q_targets = rewards + (gamma * Q_targets_next * (1 - dones))\n",
    "        # Compute critic loss\n",
    "        Q_expected = self.critic_local(states, actions)\n",
    "        critic_loss = F.mse_loss(Q_expected, Q_targets)\n",
    "        # Minimize the loss\n",
    "        self.critic_optimizer.zero_grad()\n",
    "        critic_loss.backward()\n",
    "        torch.nn.utils.clip_grad_norm_(self.critic_local.parameters(), 1)\n",
    "        self.critic_optimizer.step()\n",
    "\n",
    "        # ---------------------------- update actor ---------------------------- #\n",
    "        # Compute actor loss\n",
    "        actions_pred = self.actor_local(states)\n",
    "        actor_loss = -self.critic_local(states, actions_pred).mean()\n",
    "        # Minimize the loss\n",
    "        self.actor_optimizer.zero_grad()\n",
    "        actor_loss.backward()\n",
    "        self.actor_optimizer.step()\n",
    "\n",
    "        # ----------------------- update target networks (soft update)----------------------- #\n",
    "        self.soft_update(self.critic_local, self.critic_target, TAU)\n",
    "        self.soft_update(self.actor_local, self.actor_target, TAU)                     \n",
    "\n",
    "    def hard_update(self, local_model, target_model):\n",
    "        for target_param, local_param in zip(target_model.parameters(), local_model.parameters()):\n",
    "            target_param.data.copy_(local_param.data)\n",
    "        \n",
    "    def soft_update(self, local_model, target_model, tau):\n",
    "        \"\"\"Soft update model parameters.\n",
    "        θ_target = τ*θ_local + (1 - τ)*θ_target\n",
    "\n",
    "        Params\n",
    "        ======\n",
    "            local_model: PyTorch model (weights will be copied from)\n",
    "            target_model: PyTorch model (weights will be copied to)\n",
    "            tau (float): interpolation parameter \n",
    "        \"\"\"\n",
    "        for target_param, local_param in zip(target_model.parameters(), local_model.parameters()):\n",
    "            target_param.data.copy_(tau*local_param.data + (1.0-tau)*target_param.data)\n",
    "\n",
    "class OUNoise:\n",
    "    \"\"\"Ornstein-Uhlenbeck process.\"\"\"\n",
    "\n",
    "    def __init__(self, size, seed, mu=0., theta=0.15, sigma=0.2):\n",
    "        \"\"\"Initialize parameters and noise process.\"\"\"\n",
    "        self.mu = mu * np.ones(size)\n",
    "        self.theta = theta\n",
    "        self.sigma = sigma\n",
    "        self.seed = random.seed(seed)\n",
    "        self.reset()\n",
    "\n",
    "    def reset(self):\n",
    "        \"\"\"Reset the internal state (= noise) to mean (mu).\"\"\"\n",
    "        self.state = copy.copy(self.mu)\n",
    "\n",
    "    def sample(self):\n",
    "        \"\"\"Update internal state and return it as a noise sample.\"\"\"\n",
    "        x = self.state\n",
    "        dx = self.theta * (self.mu - x) + self.sigma * np.array([np.random.randn() for i in range(len(x))])\n",
    "        self.state = x + dx\n",
    "        return self.state\n",
    "\n",
    "class ReplayBuffer:\n",
    "    \"\"\"Fixed-size buffer to store experience tuples.\"\"\"\n",
    "\n",
    "    def __init__(self, action_size, buffer_size, batch_size, seed):\n",
    "        \"\"\"Initialize a ReplayBuffer object.\n",
    "        Params\n",
    "        ======\n",
    "            buffer_size (int): maximum size of buffer\n",
    "            batch_size (int): size of each training batch\n",
    "        \"\"\"\n",
    "        self.action_size = action_size\n",
    "        self.memory = deque(maxlen=buffer_size)  # internal memory (deque)\n",
    "        self.batch_size = batch_size\n",
    "        self.experience = namedtuple(\"Experience\", field_names=[\"state\", \"action\", \"reward\", \"next_state\", \"done\"])\n",
    "        self.seed = random.seed(seed)\n",
    "    \n",
    "    def add(self, state, action, reward, next_state, done):\n",
    "        \"\"\"Add a new experience to memory.\"\"\"\n",
    "        e = self.experience(state, action, reward, next_state, done)\n",
    "        self.memory.append(e)\n",
    "    \n",
    "    def sample(self):\n",
    "        \"\"\"Randomly sample a batch of experiences from memory.\"\"\"\n",
    "        experiences = random.sample(self.memory, k=self.batch_size)\n",
    "\n",
    "        states = torch.from_numpy(np.vstack([e.state for e in experiences if e is not None])).float().to(device)\n",
    "        actions = torch.from_numpy(np.vstack([e.action for e in experiences if e is not None])).float().to(device)\n",
    "        rewards = torch.from_numpy(np.vstack([e.reward for e in experiences if e is not None])).float().to(device)\n",
    "        next_states = torch.from_numpy(np.vstack([e.next_state for e in experiences if e is not None])).float().to(device)\n",
    "        dones = torch.from_numpy(np.vstack([e.done for e in experiences if e is not None]).astype(np.uint8)).float().to(device)\n",
    "\n",
    "        return (states, actions, rewards, next_states, dones)\n",
    "\n",
    "    def __len__(self):\n",
    "        \"\"\"Return the current size of internal memory.\"\"\"\n",
    "        return len(self.memory)"
   ]
  },
  {
   "cell_type": "markdown",
   "metadata": {},
   "source": [
    "## 4.4 Define DDPG Learning Algorithm"
   ]
  },
  {
   "cell_type": "code",
   "execution_count": 10,
   "metadata": {},
   "outputs": [],
   "source": [
    "def ddpg(env, agent, num_episodes=2000, max_t=1000, learn_every=20, learn_steps=10, goal_score=30, goal_period=100):\n",
    "    \"\"\" implementaion of the DDPG learning algorithm\n",
    "    \n",
    "    env (UnityEnvironment) : The Unity Environment to train against\n",
    "    agent (Agent) : The Agent to use in the learning\n",
    "    num_episodes (int) : the max number of episodes to train for\n",
    "    max_t (int) : The max number of timesteps to train for in each episode\n",
    "    learn_every (int) : the number of timesteps between learning epochs\n",
    "    learn_steps (int) : the number of learning steps to take in each learning epoch\n",
    "    goal_score (int)  : the target average game score to achieve over the goal_period\n",
    "    goal_period (int) : the number of episodes to average the score over to determine if the environment is mastered\n",
    "    \n",
    "    \"\"\"\n",
    "    \n",
    "    print(\"DDPG Configuration\")\n",
    "    print(\"Max Episodes\", num_episodes)\n",
    "    print(\"Max Steps per Episode\", max_t)\n",
    "    print(\"Learning epoch every\" , learn_every)\n",
    "    print(\"Number of Learning steps per learning epoch\", learn_steps)\n",
    "    print(\"Goal Score\", goal_score)\n",
    "    print(\"Goal Score Period\", goal_period)\n",
    "    print(\"********************\")\n",
    "    \n",
    "    period_scores_deque = deque(maxlen=goal_period)\n",
    "    all_avg_scores = []\n",
    "    \n",
    "    for i_episode in range(1, num_episodes+1):\n",
    "        # Reset Env and Agent\n",
    "        env_info = env.reset(train_mode=True)[brain_name]       # reset the environment    \n",
    "        states = env_info.vector_observations                   # get the current state (for each agent)\n",
    "        scores = np.zeros(num_agents)                            # initialize the score (for each agent)\n",
    "        agent.reset()\n",
    "        \n",
    "        for t in range(max_t):\n",
    "            actions = agent.act(states)\n",
    "            \n",
    "            env_info = env.step(actions)[brain_name]            # send all actions to the environment\n",
    "            next_states = env_info.vector_observations          # get next state (for each agent)\n",
    "            rewards = env_info.rewards                          # get reward (for each agent)\n",
    "            \n",
    "            dones = env_info.local_done                         # see if episode finished\n",
    "            \n",
    "            for state, action, reward, next_state, done in zip(states, actions, rewards, next_states, dones):\n",
    "                agent.step(state, action, reward, next_state, done) # send actions to the agent\n",
    "            \n",
    "            scores += env_info.rewards                           # update the score (for each agent)\n",
    "            states = next_states                                # roll over states to next time step\n",
    "            \n",
    "            if t % learn_every == 0:\n",
    "                for _ in range(learn_steps):\n",
    "                    agent.start_learn()\n",
    "            \n",
    "            if np.any(dones):                                   # exit loop if episode finished\n",
    "                break\n",
    "    \n",
    "        mean_score = np.mean(scores)\n",
    "        min_score = np.min(scores)\n",
    "        max_score = np.max(scores)\n",
    "        period_scores_deque.append(mean_score)\n",
    "        all_avg_scores.append(mean_score)\n",
    "        period_average_score = np.mean(period_scores_deque)\n",
    "        \n",
    "        print('\\rEpisode {}\\tPeriod Average Score: {:.2f}\\tMean: {:.2f}\\tMin: {:.2f}\\tMax: {:.2f}'\n",
    "              .format(i_episode, period_average_score, mean_score, min_score, max_score), end=\"\")\n",
    "\n",
    "        if i_episode % 25 == 0:\n",
    "            print('\\rEpisode {}\\tPeriod Average Score: {:.2f}\\tMean: {:.2f}\\tMin: {:.2f}\\tMax: {:.2f}'\n",
    "              .format(i_episode, period_average_score, mean_score, min_score, max_score))  \n",
    "            \n",
    "        if period_average_score >= goal_score and i_episode >= goal_period:\n",
    "            print('\\nProblem Solved after {} epsisodes!! Total Average score: {:.2f}'.format(i_episode, period_average_score))\n",
    "            torch.save(agent.actor_local.state_dict(), 'checkpoint_actor.pth')\n",
    "            torch.save(agent.critic_local.state_dict(), 'checkpoint_critic.pth')\n",
    "            break\n",
    "    \n",
    "    return all_avg_scores"
   ]
  },
  {
   "cell_type": "markdown",
   "metadata": {},
   "source": [
    "## 4.5 Train an Agent"
   ]
  },
  {
   "cell_type": "code",
   "execution_count": 11,
   "metadata": {},
   "outputs": [],
   "source": [
    "random_seed = 73"
   ]
  },
  {
   "cell_type": "markdown",
   "metadata": {},
   "source": [
    "### 4.5.1 Training experiments\n",
    "The following is a set of small learning experiments to determine the effect of different attributes on the ability to learn\n",
    "While the overall goal is to reach an average score of 30 or more over 100 episodes, these experiments aim to test the attribute configuration in a smaller (and hopefully quicker) games where the goal is to reach an average score of 10 or more over 10 episodes with a maximum of 50 episodes.\n",
    "\n",
    "The experiments include:\n",
    "* Using an initial Hard Update to initialise the local and target networks to the same weights\n",
    "* Different Hidden Layer configurations\n",
    "* Different Learning Rates\n",
    "* Using different Learning Patterns (learning step size and learning iterations)\n",
    "\n",
    "Based on the experiments a configuration will be trained to reach an avearge score of 30 or more over 100 episodes.\n",
    "\n",
    "For the purposes of these experiments and this workbook *good* means meets the enviroment objective in the fewest number of episodes. The length of time to train a single episode is not being considered here (although is an important point)."
   ]
  },
  {
   "cell_type": "code",
   "execution_count": 71,
   "metadata": {},
   "outputs": [],
   "source": [
    "exp_goal_score = 10\n",
    "exp_goal_period = 10\n",
    "exp_num_episodes = 50"
   ]
  },
  {
   "cell_type": "code",
   "execution_count": 72,
   "metadata": {},
   "outputs": [
    {
     "name": "stdout",
     "output_type": "stream",
     "text": [
      "Agent Configuration\n",
      "State Size:  33\n",
      "Action Size: 4\n",
      "Network Size: 400 300\n",
      "Initial Hard Update False\n",
      "Actor LR: 0.001\n",
      "Critic LR: 0.001\n",
      "**************\n",
      "DDPG Configuration\n",
      "Max Episodes 50\n",
      "Max Steps per Episode 1000\n",
      "Learning epoch every 20\n",
      "Number of Learning steps per learning epoch 10\n",
      "Goal Score 10\n",
      "Goal Score Period 10\n",
      "********************\n",
      "Episode 25\tPeriod Average Score: 7.17\tMean: 11.66\tMin: 5.57\tMax: 17.55\n",
      "Episode 28\tPeriod Average Score: 10.81\tMean: 16.63\tMin: 4.96\tMax: 23.72Problem Solved after 28 epsisodes!! Total Average score: 10.81\n"
     ]
    },
    {
     "data": {
      "image/png": "[encoded data removed]",
      "text/plain": [
       "<Figure size 432x288 with 1 Axes>"
      ]
     },
     "metadata": {},
     "output_type": "display_data"
    }
   ],
   "source": [
    "# Baseline configuration\n",
    "agent = Agent(state_size=state_size, action_size=action_size, random_seed=random_seed)\n",
    "scores = ddpg(env, agent, goal_score = exp_goal_score, goal_period = exp_goal_period, num_episodes = exp_num_episodes)\n",
    "graph_scores(scores)"
   ]
  },
  {
   "cell_type": "code",
   "execution_count": 73,
   "metadata": {},
   "outputs": [
    {
     "name": "stdout",
     "output_type": "stream",
     "text": [
      "Agent Configuration\n",
      "State Size:  33\n",
      "Action Size: 4\n",
      "Network Size: 400 300\n",
      "Initial Hard Update True\n",
      "Actor LR: 0.001\n",
      "Critic LR: 0.001\n",
      "**************\n",
      "DDPG Configuration\n",
      "Max Episodes 50\n",
      "Max Steps per Episode 1000\n",
      "Learning epoch every 20\n",
      "Number of Learning steps per learning epoch 10\n",
      "Goal Score 10\n",
      "Goal Score Period 10\n",
      "********************\n",
      "Episode 25\tPeriod Average Score: 8.63\tMean: 13.34\tMin: 7.94\tMax: 20.93\n",
      "Episode 27\tPeriod Average Score: 10.46\tMean: 15.44\tMin: 9.60\tMax: 23.02Problem Solved after 27 epsisodes!! Total Average score: 10.46\n"
     ]
    },
    {
     "data": {
      "image/png": "[encoded data removed]",
      "text/plain": [
       "<Figure size 432x288 with 1 Axes>"
      ]
     },
     "metadata": {},
     "output_type": "display_data"
    }
   ],
   "source": [
    "# Using an initial hard update of local and target networks\n",
    "agent = Agent(state_size=state_size, action_size=action_size, random_seed=random_seed, initial_hard_update=True)\n",
    "scores = ddpg(env, agent, goal_score = exp_goal_score, goal_period = exp_goal_period, num_episodes = exp_num_episodes)\n",
    "graph_scores(scores)"
   ]
  },
  {
   "cell_type": "code",
   "execution_count": 74,
   "metadata": {},
   "outputs": [
    {
     "name": "stdout",
     "output_type": "stream",
     "text": [
      "Agent Configuration\n",
      "State Size:  33\n",
      "Action Size: 4\n",
      "Network Size: 256 128\n",
      "Initial Hard Update False\n",
      "Actor LR: 0.001\n",
      "Critic LR: 0.001\n",
      "**************\n",
      "DDPG Configuration\n",
      "Max Episodes 50\n",
      "Max Steps per Episode 1000\n",
      "Learning epoch every 20\n",
      "Number of Learning steps per learning epoch 10\n",
      "Goal Score 10\n",
      "Goal Score Period 10\n",
      "********************\n",
      "Episode 25\tPeriod Average Score: 6.80\tMean: 10.21\tMin: 3.20\tMax: 19.22\n",
      "Episode 29\tPeriod Average Score: 10.65\tMean: 16.67\tMin: 7.21\tMax: 22.52Problem Solved after 29 epsisodes!! Total Average score: 10.65\n"
     ]
    },
    {
     "data": {
      "image/png": "[encoded data removed]",
      "text/plain": [
       "<Figure size 432x288 with 1 Axes>"
      ]
     },
     "metadata": {},
     "output_type": "display_data"
    }
   ],
   "source": [
    "# Using a Smaller network\n",
    "agent = Agent(state_size=state_size, action_size=action_size, random_seed=random_seed, fc1=256, fc2=128)\n",
    "scores = ddpg(env, agent, goal_score = exp_goal_score, goal_period = exp_goal_period, num_episodes = exp_num_episodes)\n",
    "graph_scores(scores)"
   ]
  },
  {
   "cell_type": "code",
   "execution_count": 78,
   "metadata": {},
   "outputs": [
    {
     "name": "stdout",
     "output_type": "stream",
     "text": [
      "Agent Configuration\n",
      "State Size:  33\n",
      "Action Size: 4\n",
      "Network Size: 600 400\n",
      "Initial Hard Update False\n",
      "Actor LR: 0.001\n",
      "Critic LR: 0.001\n",
      "**************\n",
      "DDPG Configuration\n",
      "Max Episodes 50\n",
      "Max Steps per Episode 1000\n",
      "Learning epoch every 20\n",
      "Number of Learning steps per learning epoch 10\n",
      "Goal Score 10\n",
      "Goal Score Period 10\n",
      "********************\n",
      "Episode 25\tPeriod Average Score: 2.80\tMean: 4.54\tMin: 2.07\tMax: 7.71\n",
      "Episode 45\tPeriod Average Score: 10.39\tMean: 14.12\tMin: 8.62\tMax: 19.88\n",
      "Problem Solved after 45 epsisodes!! Total Average score: 10.39\n"
     ]
    },
    {
     "data": {
      "image/png": "[encoded data removed]",
      "text/plain": [
       "<Figure size 432x288 with 1 Axes>"
      ]
     },
     "metadata": {},
     "output_type": "display_data"
    }
   ],
   "source": [
    "# Using a slighly larger network\n",
    "agent = Agent(state_size=state_size, action_size=action_size, random_seed=random_seed, fc1=600, fc2=400)\n",
    "scores = ddpg(env, agent, goal_score = exp_goal_score, goal_period = exp_goal_period, num_episodes = exp_num_episodes)\n",
    "graph_scores(scores)"
   ]
  },
  {
   "cell_type": "code",
   "execution_count": 75,
   "metadata": {},
   "outputs": [
    {
     "name": "stdout",
     "output_type": "stream",
     "text": [
      "Agent Configuration\n",
      "State Size:  33\n",
      "Action Size: 4\n",
      "Network Size: 1028 512\n",
      "Initial Hard Update False\n",
      "Actor LR: 0.001\n",
      "Critic LR: 0.001\n",
      "**************\n",
      "DDPG Configuration\n",
      "Max Episodes 50\n",
      "Max Steps per Episode 1000\n",
      "Learning epoch every 20\n",
      "Number of Learning steps per learning epoch 10\n",
      "Goal Score 10\n",
      "Goal Score Period 10\n",
      "********************\n",
      "Episode 25\tPeriod Average Score: 4.59\tMean: 5.76\tMin: 2.03\tMax: 10.47\n",
      "Episode 36\tPeriod Average Score: 10.26\tMean: 12.10\tMin: 4.54\tMax: 26.27Problem Solved after 36 epsisodes!! Total Average score: 10.26\n"
     ]
    },
    {
     "data": {
      "image/png": "[encoded data removed]",
      "text/plain": [
       "<Figure size 432x288 with 1 Axes>"
      ]
     },
     "metadata": {},
     "output_type": "display_data"
    }
   ],
   "source": [
    "# Using a larger network\n",
    "agent = Agent(state_size=state_size, action_size=action_size, random_seed=random_seed, fc1=1028, fc2=512)\n",
    "scores = ddpg(env, agent, goal_score = exp_goal_score, goal_period = exp_goal_period, num_episodes = exp_num_episodes)\n",
    "graph_scores(scores)"
   ]
  },
  {
   "cell_type": "code",
   "execution_count": 79,
   "metadata": {},
   "outputs": [
    {
     "name": "stdout",
     "output_type": "stream",
     "text": [
      "Agent Configuration\n",
      "State Size:  33\n",
      "Action Size: 4\n",
      "Network Size: 400 300\n",
      "Initial Hard Update False\n",
      "Actor LR: 0.001\n",
      "Critic LR: 0.001\n",
      "**************\n",
      "DDPG Configuration\n",
      "Max Episodes 50\n",
      "Max Steps per Episode 1000\n",
      "Learning epoch every 30\n",
      "Number of Learning steps per learning epoch 10\n",
      "Goal Score 10\n",
      "Goal Score Period 10\n",
      "********************\n",
      "Episode 25\tPeriod Average Score: 4.83\tMean: 7.67\tMin: 4.65\tMax: 13.06\n",
      "Episode 32\tPeriod Average Score: 10.84\tMean: 16.72\tMin: 8.95\tMax: 24.37\n",
      "Problem Solved after 32 epsisodes!! Total Average score: 10.84\n"
     ]
    },
    {
     "data": {
      "image/png": "[encoded data removed]",
      "text/plain": [
       "<Figure size 432x288 with 1 Axes>"
      ]
     },
     "metadata": {},
     "output_type": "display_data"
    }
   ],
   "source": [
    "# Learning less frequently\n",
    "agent = Agent(state_size=state_size, action_size=action_size, random_seed=random_seed)\n",
    "scores = ddpg(env, agent, goal_score = exp_goal_score, goal_period = exp_goal_period, num_episodes = exp_num_episodes, \n",
    "              learn_every = 30)\n",
    "graph_scores(scores)"
   ]
  },
  {
   "cell_type": "code",
   "execution_count": 80,
   "metadata": {},
   "outputs": [
    {
     "name": "stdout",
     "output_type": "stream",
     "text": [
      "Agent Configuration\n",
      "State Size:  33\n",
      "Action Size: 4\n",
      "Network Size: 400 300\n",
      "Initial Hard Update False\n",
      "Actor LR: 0.001\n",
      "Critic LR: 0.001\n",
      "**************\n",
      "DDPG Configuration\n",
      "Max Episodes 50\n",
      "Max Steps per Episode 1000\n",
      "Learning epoch every 10\n",
      "Number of Learning steps per learning epoch 10\n",
      "Goal Score 10\n",
      "Goal Score Period 10\n",
      "********************\n",
      "Episode 20\tPeriod Average Score: 11.20\tMean: 19.69\tMin: 11.05\tMax: 30.82\n",
      "Problem Solved after 20 epsisodes!! Total Average score: 11.20\n"
     ]
    },
    {
     "data": {
      "image/png": "[encoded data removed]",
      "text/plain": [
       "<Figure size 432x288 with 1 Axes>"
      ]
     },
     "metadata": {},
     "output_type": "display_data"
    }
   ],
   "source": [
    "# Learning more frequently\n",
    "agent = Agent(state_size=state_size, action_size=action_size, random_seed=random_seed)\n",
    "scores = ddpg(env, agent, goal_score = exp_goal_score, goal_period = exp_goal_period, num_episodes = exp_num_episodes, \n",
    "              learn_every = 10)\n",
    "graph_scores(scores)"
   ]
  },
  {
   "cell_type": "code",
   "execution_count": 81,
   "metadata": {},
   "outputs": [
    {
     "name": "stdout",
     "output_type": "stream",
     "text": [
      "Agent Configuration\n",
      "State Size:  33\n",
      "Action Size: 4\n",
      "Network Size: 400 300\n",
      "Initial Hard Update False\n",
      "Actor LR: 0.001\n",
      "Critic LR: 0.001\n",
      "**************\n",
      "DDPG Configuration\n",
      "Max Episodes 50\n",
      "Max Steps per Episode 1000\n",
      "Learning epoch every 20\n",
      "Number of Learning steps per learning epoch 20\n",
      "Goal Score 10\n",
      "Goal Score Period 10\n",
      "********************\n",
      "Episode 22\tPeriod Average Score: 10.98\tMean: 17.54\tMin: 9.53\tMax: 28.57\n",
      "Problem Solved after 22 epsisodes!! Total Average score: 10.98\n"
     ]
    },
    {
     "data": {
      "image/png": "[encoded data removed]",
      "text/plain": [
       "<Figure size 432x288 with 1 Axes>"
      ]
     },
     "metadata": {},
     "output_type": "display_data"
    }
   ],
   "source": [
    "# Learn more per learning epoch\n",
    "agent = Agent(state_size=state_size, action_size=action_size, random_seed=random_seed)\n",
    "scores = ddpg(env, agent, goal_score = exp_goal_score, goal_period = exp_goal_period, num_episodes = exp_num_episodes, \n",
    "              learn_steps = 20)\n",
    "graph_scores(scores)"
   ]
  },
  {
   "cell_type": "code",
   "execution_count": 82,
   "metadata": {},
   "outputs": [
    {
     "name": "stdout",
     "output_type": "stream",
     "text": [
      "Agent Configuration\n",
      "State Size:  33\n",
      "Action Size: 4\n",
      "Network Size: 400 300\n",
      "Initial Hard Update False\n",
      "Actor LR: 0.001\n",
      "Critic LR: 0.001\n",
      "**************\n",
      "DDPG Configuration\n",
      "Max Episodes 50\n",
      "Max Steps per Episode 1000\n",
      "Learning epoch every 20\n",
      "Number of Learning steps per learning epoch 5\n",
      "Goal Score 10\n",
      "Goal Score Period 10\n",
      "********************\n",
      "Episode 25\tPeriod Average Score: 3.13\tMean: 5.04\tMin: 2.13\tMax: 8.60\n",
      "Episode 39\tPeriod Average Score: 10.53\tMean: 13.51\tMin: 5.50\tMax: 20.94\n",
      "Problem Solved after 39 epsisodes!! Total Average score: 10.53\n"
     ]
    },
    {
     "data": {
      "image/png": "[encoded data removed]",
      "text/plain": [
       "<Figure size 432x288 with 1 Axes>"
      ]
     },
     "metadata": {},
     "output_type": "display_data"
    }
   ],
   "source": [
    "# Learn less per learning epoch\n",
    "agent = Agent(state_size=state_size, action_size=action_size, random_seed=random_seed)\n",
    "scores = ddpg(env, agent, goal_score = exp_goal_score, goal_period = exp_goal_period, num_episodes = exp_num_episodes, \n",
    "              learn_steps = 5)\n",
    "graph_scores(scores)"
   ]
  },
  {
   "cell_type": "markdown",
   "metadata": {},
   "source": [
    "### 4.5.2 Training a good Agent"
   ]
  },
  {
   "cell_type": "code",
   "execution_count": 12,
   "metadata": {},
   "outputs": [
    {
     "name": "stdout",
     "output_type": "stream",
     "text": [
      "Agent Configuration\n",
      "State Size:  33\n",
      "Action Size: 4\n",
      "Network Size: 400 300\n",
      "Initial Hard Update True\n",
      "Actor LR: 0.001\n",
      "Critic LR: 0.001\n",
      "**************\n",
      "DDPG Configuration\n",
      "Max Episodes 2000\n",
      "Max Steps per Episode 1000\n",
      "Learning epoch every 10\n",
      "Number of Learning steps per learning epoch 20\n",
      "Goal Score 30\n",
      "Goal Score Period 100\n",
      "********************\n",
      "Episode 25\tPeriod Average Score: 15.65\tMean: 28.98\tMin: 20.30\tMax: 36.92\n",
      "Episode 50\tPeriod Average Score: 25.02\tMean: 34.29\tMin: 30.79\tMax: 36.32\n",
      "Episode 75\tPeriod Average Score: 28.73\tMean: 37.68\tMin: 35.20\tMax: 39.40\n",
      "Episode 100\tPeriod Average Score: 30.90\tMean: 36.96\tMin: 35.12\tMax: 38.93\n",
      "\n",
      "Problem Solved after 100 epsisodes!! Total Average score: 30.90\n"
     ]
    },
    {
     "data": {
      "image/png": "[encoded data removed]",
      "text/plain": [
       "<Figure size 432x288 with 1 Axes>"
      ]
     },
     "metadata": {},
     "output_type": "display_data"
    }
   ],
   "source": [
    "agent = Agent(state_size=state_size, action_size=action_size, random_seed=random_seed, initial_hard_update=True)\n",
    "scores = ddpg(env, agent, learn_every = 10, learn_steps = 20)\n",
    "graph_scores(scores)"
   ]
  },
  {
   "cell_type": "markdown",
   "metadata": {},
   "source": [
    "# 5 Watch the trained Agent"
   ]
  },
  {
   "cell_type": "code",
   "execution_count": 13,
   "metadata": {},
   "outputs": [
    {
     "name": "stdout",
     "output_type": "stream",
     "text": [
      "Total score: 37.467499162536114\n"
     ]
    }
   ],
   "source": [
    "# Load the saved weights\n",
    "agent.actor_local.load_state_dict(torch.load('checkpoint_actor.pth', map_location='cpu'))\n",
    "agent.critic_local.load_state_dict(torch.load('checkpoint_critic.pth', map_location='cpu'))\n",
    "\n",
    "env_info = env.reset(train_mode=False)[brain_name]     # reset the environment    \n",
    "states = env_info.vector_observations                  # get the current state (for each agent)\n",
    "scores = np.zeros(num_agents)                          # initialize the score (for each agent)\n",
    "\n",
    "# Run for a time\n",
    "for _ in range(1000):\n",
    "    actions = agent.act(states)                        # select actions from loaded model agent\n",
    "    env_info = env.step(actions)[brain_name]           # send all actions to tne environment\n",
    "    next_states = env_info.vector_observations         # get next state (for each agent)\n",
    "    rewards = env_info.rewards                         # get reward (for each agent)\n",
    "    dones = env_info.local_done                        # see if episode finished\n",
    "    scores += env_info.rewards                         # update the score (for each agent)\n",
    "    states = next_states                               # roll over states to next time step\n",
    "    if np.any(dones):                                  # exit loop if episode finished\n",
    "        break\n",
    "\n",
    "print('Total score: {}'.format(np.mean(scores)))"
   ]
  },
  {
   "cell_type": "markdown",
   "metadata": {},
   "source": [
    "Close the Agent"
   ]
  },
  {
   "cell_type": "code",
   "execution_count": 14,
   "metadata": {},
   "outputs": [],
   "source": [
    "env.close()"
   ]
  }
 ],
 "metadata": {
  "kernelspec": {
   "display_name": "Python 3",
   "language": "python",
   "name": "python3"
  },
  "language_info": {
   "codemirror_mode": {
    "name": "ipython",
    "version": 3
   },
   "file_extension": ".py",
   "mimetype": "text/x-python",
   "name": "python",
   "nbconvert_exporter": "python",
   "pygments_lexer": "ipython3",
   "version": "3.6.7"
  }
 },
 "nbformat": 4,
 "nbformat_minor": 2
}
